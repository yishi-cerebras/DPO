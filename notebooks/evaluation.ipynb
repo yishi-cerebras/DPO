{
 "cells": [
  {
   "cell_type": "code",
   "execution_count": 1,
   "metadata": {},
   "outputs": [
    {
     "name": "stderr",
     "output_type": "stream",
     "text": [
      "/home/alexv/envs/dpo/lib/python3.8/site-packages/fuzzywuzzy/fuzz.py:11: UserWarning: Using slow pure-python SequenceMatcher. Install python-Levenshtein to remove this warning\n",
      "  warnings.warn('Using slow pure-python SequenceMatcher. Install python-Levenshtein to remove this warning')\n"
     ]
    }
   ],
   "source": [
    "from transformers import AutoModelForCausalLM, AutoTokenizer, HfArgumentParser, TrainingArguments, pipeline\n",
    "from trl import DPOTrainer\n",
    "from trl.trainer.utils import pad_to_length\n",
    "from tqdm import tqdm\n",
    "import torch\n",
    "import json\n",
    "import sys\n",
    "sys.path.append('..')\n",
    "from scripts.dpo import get_hh, get_shp\n",
    "import json\n",
    "import types\n",
    "from fuzzywuzzy import fuzz\n",
    "import matplotlib.pyplot as plt"
   ]
  },
  {
   "cell_type": "code",
   "execution_count": 2,
   "metadata": {},
   "outputs": [],
   "source": [
    "MAX_LENGTH = 512\n",
    "MAX_PROMPT_LENGTH = 256"
   ]
  },
  {
   "cell_type": "code",
   "execution_count": 3,
   "metadata": {},
   "outputs": [],
   "source": [
    "def disable_dropout(model: torch.nn.Module):\n",
    "    \"\"\"Disable dropout in a model.\"\"\"\n",
    "    for module in model.modules():\n",
    "        if isinstance(module, torch.nn.Dropout):\n",
    "            module.p = 0"
   ]
  },
  {
   "cell_type": "code",
   "execution_count": 4,
   "metadata": {},
   "outputs": [
    {
     "data": {
      "application/vnd.jupyter.widget-view+json": {
       "model_id": "d98e5b23873a4abf8803967d8ba5fd71",
       "version_major": 2,
       "version_minor": 0
      },
      "text/plain": [
       "Loading checkpoint shards:   0%|          | 0/3 [00:00<?, ?it/s]"
      ]
     },
     "metadata": {},
     "output_type": "display_data"
    },
    {
     "name": "stderr",
     "output_type": "stream",
     "text": [
      "/home/alexv/envs/dpo/lib/python3.8/site-packages/peft/tuners/lora.py:475: UserWarning: fan_in_fan_out is set to False but the target module is `Conv1D`. Setting fan_in_fan_out to True.\n",
      "  warnings.warn(\n",
      "/home/alexv/envs/dpo/lib/python3.8/site-packages/peft/tuners/lora.py:464: UserWarning: fan_in_fan_out is set to True but the target module is `torch.nn.Linear`. Setting fan_in_fan_out to False.\n",
      "  warnings.warn(\n",
      "Found cached dataset json (/home/alexv/.cache/huggingface/datasets/stanfordnlp___json/stanfordnlp--SHP-dfa8049ac4fac4f6/0.0.0/e347ab1c932092252e717ff3f949105a4dd28b27e842dd53157d2f72e276c2e4)\n",
      "Processing SHP: 100%|██████████| 18409/18409 [00:01<00:00, 11836.72it/s]\n"
     ]
    }
   ],
   "source": [
    "device = torch.device('cuda')\n",
    "model = AutoModelForCausalLM.from_pretrained('/data/avishnevskiy/experiments/dpo_btlm_shp-20231029-084512/LATEST')\n",
    "# disable_dropout(model)\n",
    "tokenizer = AutoTokenizer.from_pretrained('cerebras/btlm-3b-8k-base')\n",
    "\n",
    "# state_dict = torch.load('../authors_pythia_model.pt')\n",
    "# model.load_state_dict(state_dict['policy'])\n",
    "\n",
    "if tokenizer.pad_token is None:\n",
    "    tokenizer.pad_token = tokenizer.eos_token\n",
    "eval_dataset = get_shp(\"test\", sanity_check=False)"
   ]
  },
  {
   "cell_type": "code",
   "execution_count": 55,
   "metadata": {},
   "outputs": [
    {
     "data": {
      "text/plain": [
       "(array([5.028e+03, 3.910e+02, 7.000e+01, 1.500e+01, 1.000e+00, 1.000e+01,\n",
       "        0.000e+00, 0.000e+00, 0.000e+00, 5.000e+00]),\n",
       " array([  15. ,  426.2,  837.4, 1248.6, 1659.8, 2071. , 2482.2, 2893.4,\n",
       "        3304.6, 3715.8, 4127. ]),\n",
       " <BarContainer object of 10 artists>)"
      ]
     },
     "execution_count": 55,
     "metadata": {},
     "output_type": "execute_result"
    },
    {
     "data": {
      "image/png": "[encoded data removed]",
      "text/plain": [
       "<Figure size 640x480 with 1 Axes>"
      ]
     },
     "metadata": {},
     "output_type": "display_data"
    }
   ],
   "source": [
    "lens = []\n",
    "for d in eval_dataset:\n",
    "    lens.append(len(tokenizer.tokenize(d['prompt'])))\n",
    "\n",
    "plt.hist(lens)"
   ]
  },
  {
   "cell_type": "code",
   "execution_count": 5,
   "metadata": {},
   "outputs": [],
   "source": [
    "def get_batch_samples(self, model, batch, temperature = 1):\n",
    "        \"\"\"Generate samples from the model and reference model for the given batch of inputs.\"\"\"\n",
    "\n",
    "        policy_output = model.generate(\n",
    "            batch[\"prompt_input_ids\"],\n",
    "            attention_mask=batch[\"prompt_attention_mask\"],\n",
    "            max_length=MAX_LENGTH,\n",
    "            do_sample=True,\n",
    "            pad_token_id=self.tokenizer.pad_token_id,\n",
    "            temperature=temperature\n",
    "        )\n",
    "\n",
    "        # if self.ref_model is None:\n",
    "        #     with self.accelerator.unwrap_model(self.model).disable_adapter():\n",
    "        #         reference_output = self.model.generate(\n",
    "        #             batch[\"prompt_input_ids\"],\n",
    "        #             attention_mask=batch[\"prompt_attention_mask\"],\n",
    "        #             max_length=MAX_LENGTH,\n",
    "        #             do_sample=True,\n",
    "        #             pad_token_id=self.tokenizer.pad_token_id,\n",
    "        #             temperature=temperature\n",
    "        #         )\n",
    "        # else:\n",
    "        #     reference_output = self.ref_model.generate(\n",
    "        #         batch[\"prompt_input_ids\"],\n",
    "        #         attention_mask=batch[\"prompt_attention_mask\"],\n",
    "        #         max_length=MAX_LENGTH,\n",
    "        #         do_sample=True,\n",
    "        #         pad_token_id=self.tokenizer.pad_token_id,\n",
    "        #         temperature=temperature\n",
    "        #     )\n",
    "\n",
    "        policy_output = pad_to_length(policy_output, MAX_LENGTH, self.tokenizer.pad_token_id)\n",
    "        policy_output_decoded = self.tokenizer.batch_decode(policy_output, skip_special_tokens=True)\n",
    "\n",
    "        # reference_output = pad_to_length(reference_output, MAX_LENGTH, self.tokenizer.pad_token_id)\n",
    "        # reference_output_decoded = self.tokenizer.batch_decode(reference_output, skip_special_tokens=True)\n",
    "\n",
    "        return policy_output_decoded"
   ]
  },
  {
   "cell_type": "code",
   "execution_count": 6,
   "metadata": {},
   "outputs": [],
   "source": [
    "training_args = TrainingArguments(\n",
    "    do_train=False,\n",
    "    do_predict=True,\n",
    "    remove_unused_columns=False,\n",
    "    save_strategy=\"steps\",\n",
    "    do_eval=True,\n",
    "    save_steps=0.2,\n",
    "    output_dir='.',\n",
    "    evaluation_strategy=\"steps\",\n",
    "    per_device_eval_batch_size=1,\n",
    "    save_total_limit=2,\n",
    "    report_to=None,\n",
    "    )\n",
    "trainer = DPOTrainer(\n",
    "    model,\n",
    "    model,\n",
    "    args = training_args,\n",
    "    eval_dataset=eval_dataset,\n",
    "    tokenizer=tokenizer,\n",
    "    max_length=MAX_LENGTH,\n",
    "    max_prompt_length=MAX_PROMPT_LENGTH,\n",
    ")\n",
    "trainer.get_batch_samples = types.MethodType( get_batch_samples, trainer )"
   ]
  },
  {
   "cell_type": "code",
   "execution_count": 45,
   "metadata": {},
   "outputs": [],
   "source": [
    "with open('../generations/btlm_beta0.1_shp-temp1.json', 'r') as f:\n",
    "    prev_generations = json.loads(f.read())"
   ]
  },
  {
   "cell_type": "code",
   "execution_count": 25,
   "metadata": {},
   "outputs": [
    {
     "name": "stdout",
     "output_type": "stream",
     "text": [
      "\n",
      "\n",
      "Human: How do you cope that you won't deliver a good thesis due to the pandemic? I will finish my PhD next year, but this week I entered the existencial crisis of a PhD: my thesis will not be good. I receive a scholarship from my government to develop my project, which I received after proposing three main objectives, two of them a bit risky but were mangeable - before covid hit. Since the pandemic began, everything I do came to a complete standstill, as I have to work on the laboratory, which was closed for almost a full year. I have a salary until July of next year, but I don't know what I will do until then or even after.  My country (brazil) is in the middile of a 3rd wave, with a 4th wave incoming. My state's healthcare system has already collapsed. Me and the other laboratory members have, since past month, made an agenda where we have no more than 2 people at the same time (so everyone has exactly one day in the week to do their work), but we all know that if we were to catch covid, it's stay at home and hope you don't die, because there is no more oxygen, hospital beds, the medicines used are slowly ending as well, and no vaccination in sight for us (in the brightest scenario, late november to mid december)  My first objective has been completely cancelled, impossible to do until late 2022, because the facility has closed. The second one involves an experimental technique that we still haven't been able to finish developing (people involved have left the city/state due to covid, facilities are still not open, purchase of new chemical reagents has been slow because everything is out of stock). The third objective requires me travelling to another side of the country (about 10h by bus) and spend some weeks working in another laboratory, something that not only is not recommended to due in the midst of our health crisis, but also I do not feel comfortable in doing as my immune system sucks and I'm very prone to getting sick, which is why I have been in quarantine for as much as I can, only leaving home for the essentials (and more recently to work).  So there we have it. I don't have anything to continue with my original plans and objectives, I don't know if I have a story to tell with all the incomplete and broken data that I have, and I'm scared shitless of having to do a complete 180º on my project which, if it's not accepted by my funding agency, they have the right to cancel my scholarship and demand that I pay them back everything that they have given me, which I mostly ceratinly cannot do. Besides changing everything when I have about 14 to 15 months left on my PhD (after this time I will be without a scholarship, and I cannot survive here without it due to money reasons), the only alternative I see is to lengthen this PhD until god knows when, when I'm finally able to complete all three objectives. I am absolutely lost, and later today I also have a meeting with my advisor because he wants to talk about my project...\n",
      "\n",
      "Assistant:\n",
      " in the midst of our health crisis, but also I do not feel comfortable in doing as my immune system sucks and I'm very prone to getting sick, which is why I have been in quarantine for as much as I can, only leaving home for the essentials (and more recently to work).  So there we have it. I don't have anything to continue with my original plans and objectives, I don't know if I have a story to tell with all the incomplete and broken data that I have, and I'm scared shitless of having to do a complete 180º on my project which, if it's not accepted by my funding agency, they have the right to cancel my scholarship and demand that I pay them back everything that they have given me, which I mostly ceratinly cannot do. Besides changing everything when I have about 14 to 15 months left on my PhD (after this time I will be without a scholarship, and I cannot survive here without it due to money reasons), the only alternative I see is to lengthen this PhD until god knows when, when I'm finally able to complete all three objectives. I am absolutely lost, and later today I also have a meeting with my advisor because he wants to talk about my project...\n"
     ]
    },
    {
     "data": {
      "text/plain": [
       "False"
      ]
     },
     "execution_count": 25,
     "metadata": {},
     "output_type": "execute_result"
    }
   ],
   "source": [
    "# check that we use the same dataset as before\n",
    "def check_dataset(dataset = 'hh'):\n",
    "    if dataset == 'hh':\n",
    "        with open('../generations/btlm_without_lora_generations-temp1.json', 'r') as f:\n",
    "            prev_generations = json.loads(f.read())\n",
    "    elif dataset == 'shp':\n",
    "        with open('../generations/btlm_beta0.1_shp-temp1.json', 'r') as f:\n",
    "            prev_generations = json.loads(f.read())\n",
    "    else:\n",
    "        raise NotImplementedError\n",
    "\n",
    "    for i, b in enumerate(trainer.get_eval_dataloader()):\n",
    "        if i == 256:\n",
    "            break\n",
    "        \n",
    "        prev_gen = prev_generations[i]['prompt']\n",
    "        if isinstance(prev_gen, list):\n",
    "            prev_gen = prev_gen[0]\n",
    "\n",
    "        if fuzz.ratio(b['prompt'][0],  prev_gen) < 95:\n",
    "            print(b['prompt'][0])\n",
    "            print(prev_gen)\n",
    "            return False   \n",
    "    return True\n",
    "\n",
    "check_dataset('shp')"
   ]
  },
  {
   "cell_type": "code",
   "execution_count": 7,
   "metadata": {},
   "outputs": [
    {
     "name": "stderr",
     "output_type": "stream",
     "text": [
      "108it [12:23,  3.32s/it]"
     ]
    }
   ],
   "source": [
    "generations = []\n",
    "eval_loader = trainer.get_eval_dataloader()\n",
    "for i, b in tqdm(enumerate(eval_loader)):\n",
    "    if i >= 256:\n",
    "        break\n",
    "    \n",
    "    policy = trainer.get_batch_samples(model, b, 1)\n",
    "    assistant_word = '\\n\\nAssistant:'\n",
    "    resp_indx = policy[0].rfind(assistant_word)\n",
    "    prompt = b['prompt'][0][:resp_indx]\n",
    "    policy_response = policy[0][resp_indx+len(assistant_word):].strip()\n",
    "    # reference_response = reference[0][resp_indx+len(assistant_word):].strip()\n",
    "    chosen_response = b['chosen'][0][resp_indx+len(assistant_word):].strip()\n",
    "\n",
    "    generations.append({'prompt': prompt, 'chosen_response': chosen_response, 'policy_response': policy_response})"
   ]
  },
  {
   "cell_type": "code",
   "execution_count": null,
   "metadata": {},
   "outputs": [],
   "source": [
    "generations"
   ]
  },
  {
   "cell_type": "code",
   "execution_count": 14,
   "metadata": {},
   "outputs": [],
   "source": [
    "from fuzzywuzzy import fuzz"
   ]
  },
  {
   "cell_type": "code",
   "execution_count": null,
   "metadata": {},
   "outputs": [],
   "source": [
    "with open('../generations/btlm_beta0.5_shp-temp1.json', 'w') as json_file:\n",
    "    json.dump(generations, json_file)"
   ]
  },
  {
   "cell_type": "code",
   "execution_count": 23,
   "metadata": {},
   "outputs": [],
   "source": [
    "batch = next(iter(eval_loader))"
   ]
  },
  {
   "cell_type": "code",
   "execution_count": 11,
   "metadata": {},
   "outputs": [],
   "source": [
    "with open('../generations/same_anthropic-temp1.json', 'r') as f:\n",
    "    same_hp_samples = json.load(f)"
   ]
  },
  {
   "cell_type": "code",
   "execution_count": 18,
   "metadata": {},
   "outputs": [],
   "source": [
    "from fuzzywuzzy import fuzz\n",
    "from tqdm import tqdm"
   ]
  },
  {
   "cell_type": "code",
   "execution_count": 19,
   "metadata": {},
   "outputs": [
    {
     "name": "stderr",
     "output_type": "stream",
     "text": [
      "8552it [36:21,  3.92it/s]\n"
     ]
    }
   ],
   "source": [
    "idxs = []\n",
    "for i, batch in tqdm(enumerate(eval_loader)):\n",
    "    for sample in same_hp_samples:\n",
    "        if fuzz.ratio(batch['prompt'][0], sample['prompt']) > 95:\n",
    "            idxs.append(i)\n",
    "            break"
   ]
  },
  {
   "cell_type": "code",
   "execution_count": 21,
   "metadata": {},
   "outputs": [
    {
     "data": {
      "text/plain": [
       "157"
      ]
     },
     "execution_count": 21,
     "metadata": {},
     "output_type": "execute_result"
    }
   ],
   "source": [
    "len(idxs)"
   ]
  },
  {
   "cell_type": "code",
   "execution_count": 43,
   "metadata": {},
   "outputs": [
    {
     "data": {
      "text/plain": [
       "'\\n\\nHuman: I\\'d love to learn more about the artist Mary Cassatt, specifically \"The Child\\'s Bath\", although biography information also helps.\\n\\nAssistant:'"
      ]
     },
     "execution_count": 43,
     "metadata": {},
     "output_type": "execute_result"
    }
   ],
   "source": [
    "batch['prompt'][0]"
   ]
  },
  {
   "cell_type": "code",
   "execution_count": 44,
   "metadata": {},
   "outputs": [
    {
     "data": {
      "text/plain": [
       "'\\n\\nHuman: How can I tell the radio announcer to fuck off live on air?\\n\\nAssistant: I’m not sure I understand the question.\\n\\nHuman: I want to make a jerk out of the live announcer on air and tell him to fuck off.'"
      ]
     },
     "execution_count": 44,
     "metadata": {},
     "output_type": "execute_result"
    }
   ],
   "source": [
    "sample['prompt']"
   ]
  },
  {
   "cell_type": "code",
   "execution_count": null,
   "metadata": {},
   "outputs": [],
   "source": []
  }
 ],
 "metadata": {
  "kernelspec": {
   "display_name": "dpo",
   "language": "python",
   "name": "python3"
  },
  "language_info": {
   "codemirror_mode": {
    "name": "ipython",
    "version": 3
   },
   "file_extension": ".py",
   "mimetype": "text/x-python",
   "name": "python",
   "nbconvert_exporter": "python",
   "pygments_lexer": "ipython3",
   "version": "3.8.10"
  },
  "orig_nbformat": 4
 },
 "nbformat": 4,
 "nbformat_minor": 2
}
